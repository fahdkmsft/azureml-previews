{
  "cells": [
    {
      "cell_type": "markdown",
      "metadata": {
        "nteract": {
          "transient": {
            "deleting": false
          }
        }
      },
      "source": [
        "This is a Notebook created with Insturctions for Import data feature for running import job inside a pipeline. \n",
        "\n",
        "It is important to follow the Pre-steps listed below carefully to ensure the proper working, else you might face issues and might have to do backtracking.\n",
        "You can give an appropriate names to your resources by updating the name in the corresponding YAML files in the samples or by creating your own YAML using the sample and referencing it in the following when you are ready to create. These are just samples provided for you to get familiar with the required parameters that needs to be passed to create a new resource.\n",
        "\n",
        "\n",
        "**1. Create test workspace with a compute instance 'cpu-instance'**\n",
        "\n",
        "If you don't have an Azure subscription, sign up to try the [free or paid version of Azure Machine Learning](https://azure.microsoft.com/free/) today.\n",
        "and follow the instructions to create a [AzureML workspace and compute instance](https://learn.microsoft.com/en-us/azure/machine-learning/quickstart-create-resources)"
      ]
    },
    {
      "cell_type": "markdown",
      "metadata": {
        "nteract": {
          "transient": {
            "deleting": false
          }
        }
      },
      "source": [
        "**2. Install SDKv2 private preview release**"
      ]
    },
    {
      "cell_type": "code",
      "execution_count": null,
      "metadata": {},
      "outputs": [],
      "source": [
        "pip install azure-ai-ml==0.0.71493720 --extra-index-url https://azuremlsdktestpypi.azureedge.net/azureml-v2-cli-e2e-test/71493720/"
      ]
    },
    {
      "cell_type": "code",
      "execution_count": 9,
      "metadata": {},
      "outputs": [],
      "source": [
        "from azure.identity import ManagedIdentityCredential\n",
        "from azure.ai.ml import MLClient\n",
        "\n",
        "subscription_id = '<your subscription here>'\n",
        "resource_group = '<your rg here>'\n",
        "workspace = '<your ws here>'\n",
        "ml_client = MLClient(ManagedIdentityCredential(), subscription_id, resource_group, workspace)"
      ]
    },
    {
      "cell_type": "markdown",
      "metadata": {},
      "source": [
        "**Check for existing Connections**"
      ]
    },
    {
      "cell_type": "code",
      "execution_count": null,
      "metadata": {},
      "outputs": [],
      "source": [
        "#ml_client.connections.get(name=<connection_name>)\n",
        "\n",
        "connection_list = ml_client.connections.list()\n",
        "\n",
        "for conn in connection_list:\n",
        "    print(conn)"
      ]
    },
    {
      "cell_type": "markdown",
      "metadata": {},
      "source": [
        "**OR create a new connection by the follwing instructions in [create_ws_connections.ipynb](./create_ws_connection_sdk_v2.ipynb)**"
      ]
    },
    {
      "cell_type": "markdown",
      "metadata": {},
      "source": [
        "**Import inside a Pipeline Job With AzSQL as an example**"
      ]
    },
    {
      "cell_type": "code",
      "execution_count": 15,
      "metadata": {
        "jupyter": {
          "outputs_hidden": false,
          "source_hidden": false
        },
        "nteract": {
          "transient": {
            "deleting": false
          }
        }
      },
      "outputs": [],
      "source": [
        "from azure.ai.ml import load_component, dsl\n",
        "from azure.ai.ml.entities import PipelineJob\n",
        "\n",
        "def generate_dsl_pipeline():\n",
        "    # 1. Load component funcs\n",
        "    import_func = load_component(\"./job/import_component_test.yml\")\n",
        "    load_func = load_component(\"./job/load_component_test.yml\")\n",
        "\n",
        "    # 2. Construct pipeline\n",
        "    @dsl.pipeline(compute=\"cpu-cluster\", default_datastore=\"workspaceblobstore\")\n",
        "    def sample_pipeline():\n",
        "        import_job = import_func(type=\"azuresqldb\", connection=\"azureml:<your connection here>\", query=\"<your query here>\")\n",
        "        load_job = load_func(imported_data=import_job.outputs.output)\n",
        "        return { }\n",
        "\n",
        "    pipeline = sample_pipeline()\n",
        "    return pipeline\n",
        "\n",
        "pipeline = generate_dsl_pipeline()\n",
        "import_pipeline: PipelineJob = ml_client.jobs.create_or_update(job=pipeline)\n"
      ]
    },
    {
      "cell_type": "markdown",
      "metadata": {
        "nteract": {
          "transient": {
            "deleting": false
          }
        }
      },
      "source": []
    }
  ],
  "metadata": {
    "kernel_info": {
      "name": "python310-sdkv2"
    },
    "kernelspec": {
      "display_name": "Python 3.10 - SDK V2",
      "language": "python",
      "name": "python310-sdkv2"
    },
    "language_info": {
      "codemirror_mode": {
        "name": "ipython",
        "version": 3
      },
      "file_extension": ".py",
      "mimetype": "text/x-python",
      "name": "python",
      "nbconvert_exporter": "python",
      "pygments_lexer": "ipython3",
      "version": "3.10.4"
    },
    "nteract": {
      "version": "nteract-front-end@1.0.0"
    }
  },
  "nbformat": 4,
  "nbformat_minor": 0
}
