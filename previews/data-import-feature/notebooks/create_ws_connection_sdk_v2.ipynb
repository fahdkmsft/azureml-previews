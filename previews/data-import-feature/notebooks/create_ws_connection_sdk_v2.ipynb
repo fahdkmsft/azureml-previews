{
  "cells": [
    {
      "cell_type": "markdown",
      "metadata": {
        "nteract": {
          "transient": {
            "deleting": false
          }
        }
      },
      "source": [
        "This is a Notebook created with Insturctions Import data feature. \n",
        "Having a workspace connection to the source you are trying to connect is a pre-requisite. Please follow the following steps to create the necessary workspace connections. You can give an appropriate name to your connection by updating the name in the corresponding YAML file in the samples or by creating your own YAML using the sample and referencing it in the following when you are ready to create. These are just samples provided for you to get familiar with the required parameters that needs to be passed to create a new resource.\n",
        "\n",
        "\n",
        "**1. Create test workspace with a compute instance 'cpu-instance'**\n",
        "\n",
        "If you don't have an Azure subscription, sign up to try the [free or paid version of Azure Machine Learning](https://azure.microsoft.com/free/) today.\n",
        "and follow the instructions to create a [AzureML workspace and compute instance](https://learn.microsoft.com/en-us/azure/machine-learning/quickstart-create-resources)\n",
        "\n"
      ]
    },
    {
      "cell_type": "markdown",
      "metadata": {},
      "source": [
        "**Create a MLClient pointing to your workspace resources**"
      ]
    },
    {
      "cell_type": "code",
      "execution_count": null,
      "metadata": {},
      "outputs": [],
      "source": [
        "from azure.identity import ManagedIdentityCredential\n",
        "from azure.ai.ml import MLClient\n",
        "\n",
        "subscription_id = '<your subscription here>'\n",
        "resource_group = '<your rg here>'\n",
        "workspace = '<your ws here>'\n",
        "ml_client = MLClient(ManagedIdentityCredential(), subscription_id, resource_group, workspace)"
      ]
    },
    {
      "cell_type": "markdown",
      "metadata": {},
      "source": [
        "**OR create a new connection by the follwing by typing the value in the fields**"
      ]
    },
    {
      "cell_type": "markdown",
      "metadata": {},
      "source": [
        "**FOR S3 - connection creation**"
      ]
    },
    {
      "cell_type": "code",
      "execution_count": null,
      "metadata": {
        "jupyter": {
          "outputs_hidden": false,
          "source_hidden": false
        },
        "nteract": {
          "transient": {
            "deleting": false
          }
        }
      },
      "outputs": [],
      "source": [
        "from azure.ai.ml.entities import WorkspaceConnection\n",
        "from azure.ai.ml.entities import AccessKeyCredentials\n",
        "from azure.ai.ml import load_workspace_connection\n",
        "\n",
        "workspace_connection = load_workspace_connection(source=\"./workspace_connection/my_s3_connection.yaml\")\n",
        "workspace_connection.credentials.access_key_id = \"<paste value for access key>\"\n",
        "workspace_connection.credentials.secret_access_key = \"<paste value for access secret>\"\n",
        "workspace_connection = ml_client.connections.create_or_update(workspace_connection=workspace_connection)"
      ]
    },
    {
      "cell_type": "markdown",
      "metadata": {},
      "source": [
        "**FOR AZ SQL - connection creation**"
      ]
    },
    {
      "cell_type": "code",
      "execution_count": null,
      "metadata": {},
      "outputs": [],
      "source": [
        "from azure.ai.ml import MLClient, load_workspace_connection\n",
        "\n",
        "workspace_connection = load_workspace_connection(source=\"./workspace_connection/my_azuresqldb_connection.yaml\")\n",
        "workspace_connection.credentials.username=\"<paste value for username>\"\n",
        "workspace_connection.credentials.password=\"<paste value for passworkd>\"\n",
        "workspace_connection = ml_client.connections.create_or_update(workspace_connection=workspace_connection)"
      ]
    },
    {
      "cell_type": "markdown",
      "metadata": {},
      "source": [
        "**FOR Snowflake - connection creation**"
      ]
    },
    {
      "cell_type": "code",
      "execution_count": null,
      "metadata": {},
      "outputs": [],
      "source": [
        "from azure.ai.ml import MLClient, load_workspace_connection\n",
        "\n",
        "workspace_connection = load_workspace_connection(source=\"./workspace_connection/my_snowflake_connection.yaml\")\n",
        "workspace_connection.credentials.username=\"<paste value for username>\"\n",
        "workspace_connection.credentials.password=\"<paste value for password>\"\n",
        "workspace_connection = ml_client.connections.create_or_update(workspace_connection=workspace_connection)"
      ]
    },
    {
      "cell_type": "markdown",
      "metadata": {},
      "source": [
        "**Check for existing Connections**"
      ]
    },
    {
      "cell_type": "code",
      "execution_count": null,
      "metadata": {},
      "outputs": [],
      "source": [
        "#ml_client.connections.get(name=<connection_name>)\n",
        "\n",
        "connection_list = ml_client.connections.list()\n",
        "\n",
        "for conn in connection_list:\n",
        "    print(conn)"
      ]
    }
  ],
  "metadata": {
    "kernel_info": {
      "name": "python310-sdkv2"
    },
    "kernelspec": {
      "display_name": "Python 3.10 - SDK V2",
      "language": "python",
      "name": "python310-sdkv2"
    },
    "language_info": {
      "codemirror_mode": {
        "name": "ipython",
        "version": 3
      },
      "file_extension": ".py",
      "mimetype": "text/x-python",
      "name": "python",
      "nbconvert_exporter": "python",
      "pygments_lexer": "ipython3",
      "version": "3.10.4"
    },
    "nteract": {
      "version": "nteract-front-end@1.0.0"
    }
  },
  "nbformat": 4,
  "nbformat_minor": 0
}
