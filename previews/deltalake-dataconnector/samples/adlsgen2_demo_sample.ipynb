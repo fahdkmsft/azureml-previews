{
 "cells": [
  {
   "cell_type": "markdown",
   "metadata": {},
   "source": [
    ">[!NOTE]\n",
    "> Refer to README.md for details on how to use use and substitute as well as pre-requisites"
   ]
  },
  {
   "cell_type": "code",
   "execution_count": null,
   "metadata": {},
   "outputs": [],
   "source": [
    "!pip uninstall --yes azureml-dataprep azureml-dataprep-native azureml-dataprep-rslex azureml-core\n",
    "!pip install azureml-dataprep[pandas] --index https://dataprepdownloads.azureedge.net/pypi/test-M3ME5B1GMEM3SW0W/65254875/ --no-deps\n",
    " \n",
    "!pip install azureml-dataprep-rslex --index https://dataprepdownloads.azureedge.net/pypi/test-M3ME5B1GMEM3SW0W/65254875/ --no-deps\n",
    " \n",
    "!pip install azureml-dataprep-native --index https://dataprepdownloads.azureedge.net/pypi/test-M3ME5B1GMEM3SW0W/65254875/ --no-deps\n",
    " \n",
    "!pip install azureml-core --index https://azuremlsdktestpypi.azureedge.net/Create-Dev-Index/65260153/ --no-deps\n"
   ]
  },
  {
   "cell_type": "markdown",
   "metadata": {},
   "source": [
    "**Restart the kernal before start running this cell**"
   ]
  },
  {
   "cell_type": "code",
   "execution_count": null,
   "metadata": {},
   "outputs": [],
   "source": [
    "\n",
    "!pip show azureml-dataprep azureml-dataprep-rslex azureml-dataprep-native azureml-core"
   ]
  },
  {
   "cell_type": "code",
   "execution_count": null,
   "metadata": {},
   "outputs": [],
   "source": [
    "from azureml.core import Datastore, Workspace, Dataset\n",
    "from azureml.data.datapath import DataPath\n",
    "\n",
    "ws = Workspace.from_config()\n",
    "\n",
    "print('Workspace name: ' + ws.name, \n",
    "      'Azure region: ' + ws.location, \n",
    "      'Subscription id: ' + ws.subscription_id, \n",
    "      'Resource group: ' + ws.resource_group, sep='\\n')"
   ]
  },
  {
   "cell_type": "markdown",
   "metadata": {},
   "source": [
    "**You can create a Delta Lake Dataset using the new method \"from_delta_lake()\" by passing the Named Datastore, relative-path to \"_delta_log\" and timestamp**"
   ]
  },
  {
   "cell_type": "code",
   "execution_count": null,
   "metadata": {},
   "outputs": [],
   "source": [
    "ds = Datastore.get(ws, \"adlsgen2\")\n",
    "path_datastore = \"delta-table/\"\n",
    "timestamp = \"2021-08-26T00:00:00Z\"\n",
    "delta_lake_by_timestamp_new = Dataset.Tabular.from_delta_lake(path=(ds, path_datastore), timestamp_as_of=timestamp)\n",
    "\n",
    "print(delta_lake_by_timestamp_new.to_pandas_dataframe())"
   ]
  },
  {
   "cell_type": "markdown",
   "metadata": {},
   "source": [
    "**You can create a Delta Lake Dataset using the new method \"from_delta_lake()\" by passing the Named Datastore, relative-path to \"_delta_log\" and Version**"
   ]
  },
  {
   "cell_type": "code",
   "execution_count": null,
   "metadata": {},
   "outputs": [],
   "source": [
    "ds2 = Datastore.get(ws, \"adlsgen2\")\n",
    "path_datastore = \"delta-table\"\n",
    "version_as_of = 0\n",
    "delta_lake_by_version_new = Dataset.Tabular.from_delta_lake(path=(ds2, path_datastore), version_as_of=version_as_of)\n",
    "\n",
    "print(delta_lake_by_version_new.to_pandas_dataframe())"
   ]
  }
 ],
 "metadata": {
  "language_info": {
   "name": "python"
  },
  "orig_nbformat": 4
 },
 "nbformat": 4,
 "nbformat_minor": 2
}
